{
  "cells": [
    {
      "cell_type": "markdown",
      "metadata": {
        "id": "BDWVTKlWujTK"
      },
      "source": [
        "## **Install package**"
      ]
    },
    {
      "cell_type": "code",
      "execution_count": 1,
      "metadata": {
        "id": "FlmhY3m7uU7L"
      },
      "outputs": [],
      "source": [
        "!pip install --quiet langchain\n",
        "!pip install --quiet langchain-openai\n",
        "!pip install --quiet langchain-core"
      ]
    },
    {
      "cell_type": "markdown",
      "metadata": {
        "id": "vU7UGOD_uswS"
      },
      "source": [
        "## **Setting**"
      ]
    },
    {
      "cell_type": "code",
      "execution_count": 2,
      "metadata": {
        "id": "HV9GmOTRu3ZF"
      },
      "outputs": [],
      "source": [
        "import os\n",
        "\n",
        "OPENAI_API_KEY = ''\n",
        "ORGANIZATION_ID = ''\n",
        "os.environ[\"OPENAI_API_KEY\"] = OPENAI_API_KEY\n",
        "os.environ[\"OPENAI_ORGANIZATION\"] = ORGANIZATION_ID\n"
      ]
    },
    {
      "cell_type": "code",
      "execution_count": 3,
      "metadata": {
        "id": "fpJL7n0PITnX"
      },
      "outputs": [],
      "source": [
        "import requests\n",
        "from langchain_openai import ChatOpenAI\n",
        "from langchain_core.prompts import ChatPromptTemplate\n",
        "from langchain_core.prompts import PromptTemplate\n",
        "\n",
        "llm = ChatOpenAI(\n",
        "    model=\"gpt-4o\",\n",
        "    temperature=0,\n",
        "    max_tokens=500,\n",
        "    timeout=None,\n",
        "    max_retries=2,\n",
        "    # api_key=\"...\",  # if you prefer to pass api key in directly instaed of using env vars\n",
        "    # base_url=\"...\",\n",
        "    # organization=\"...\",\n",
        "    # other params...\n",
        ")"
      ]
    },
    {
      "cell_type": "markdown",
      "metadata": {
        "id": "2E6Wdq0El4ay"
      },
      "source": [
        "開始建立LLM機器人"
      ]
    },
    {
      "cell_type": "code",
      "execution_count": 8,
      "metadata": {
        "colab": {
          "base_uri": "https://localhost:8080/"
        },
        "id": "Sv-NrAgomn7T",
        "outputId": "e7475baf-21f5-426f-ea1e-7d340f4ad47a"
      },
      "outputs": [
        {
          "name": "stdout",
          "output_type": "stream",
          "text": [
            "請問今天想去哪裡:名古屋\n"
          ]
        }
      ],
      "source": [
        "destination = input('請問今天想去哪裡:')"
      ]
    },
    {
      "cell_type": "code",
      "execution_count": 9,
      "metadata": {
        "colab": {
          "base_uri": "https://localhost:8080/"
        },
        "id": "_jtxgBwU2rzp",
        "outputId": "3aa85060-4887-4dec-d9b0-c5b63f7d0c76"
      },
      "outputs": [
        {
          "name": "stdout",
          "output_type": "stream",
          "text": [
            "成功取得，token數= 32232\n"
          ]
        }
      ],
      "source": [
        "if destination=='東京':\n",
        "  # Google Doc 的公開網址\n",
        "  doc_url = 'https://docs.google.com/document/d/1IJN624UTsWLh7Q43CLLvRNY4mN--8Cfd--oWXKwWfUE/export?format=txt'\n",
        "\n",
        "  # 發送 GET 請求以讀取 Google Doc 的內容\n",
        "  response = requests.get(doc_url)\n",
        "  document_text = response.text\n",
        "\n",
        "  # print (document_text)\n",
        "  print (\"成功取得，token數=\",len(document_text) )\n",
        "\n",
        "elif destination=='名古屋':\n",
        "  # Google Doc 的公開網址\n",
        "  doc_url = 'https://docs.google.com/document/d/1FukdwA7FvBwO2ZH1x2MgK6TDWU1lsIM4_P8KhCwDE24/export?format=txt'\n",
        "\n",
        "  # 發送 GET 請求以讀取 Google Doc 的內容\n",
        "  response = requests.get(doc_url)\n",
        "  document_text = response.text\n",
        "\n",
        "  # print (document_text)\n",
        "  print (\"成功取得，token數=\",len(document_text) )\n",
        "\n",
        "else:\n",
        "  print('尚未規劃')"
      ]
    },
    {
      "cell_type": "code",
      "execution_count": 10,
      "metadata": {
        "colab": {
          "base_uri": "https://localhost:8080/"
        },
        "id": "GIv7-wkEIasE",
        "outputId": "b9d84258-8629-41ec-d0db-790696ace575"
      },
      "outputs": [
        {
          "name": "stdout",
          "output_type": "stream",
          "text": [
            "根據您的行程資訊，第一天的飛機是2014年4月26日（星期六），從台北（桃園）飛往名古屋的航班。航班號是CI0150，出發時間是17:05，到達時間是20:55。\n"
          ]
        }
      ],
      "source": [
        "chat_template = ChatPromptTemplate.from_messages(\n",
        " [\n",
        "    (\"system\",\"你是一個旅遊行程助理，請使用繁體中文回覆.\"),\n",
        "    (\"human\", document_text),\n",
        "    ('human', '{param_ques}'),\n",
        " ]\n",
        ")\n",
        "\n",
        "messages = chat_template.format_messages(param_ques='第一天的飛機是哪時候?')\n",
        "messages\n",
        "\n",
        "ai_msg = llm.invoke(messages)\n",
        "#ai_msg #可以看到詳細訊息\n",
        "print(ai_msg.content)"
      ]
    },
    {
      "cell_type": "code",
      "execution_count": 11,
      "metadata": {
        "colab": {
          "base_uri": "https://localhost:8080/"
        },
        "id": "tgEjqB_0N64h",
        "outputId": "d27da54f-0197-4275-cb11-735ea28027d5"
      },
      "outputs": [
        {
          "name": "stdout",
          "output_type": "stream",
          "text": [
            "根據您提供的行程資訊，最後一天（5月2日）的飛機時間如下：\n",
            "\n",
            "- **出發時間**：9:50\n",
            "- **到達時間**：11:50（到台灣）\n",
            "\n",
            "請確保您在出發前至少提前2小時到達機場，以便完成登機手續和安檢。祝您旅途愉快！\n"
          ]
        }
      ],
      "source": [
        "messages = chat_template.format_messages(param_ques='最後一天的飛機是哪時候?')\n",
        "print (llm.invoke(messages).content)\n"
      ]
    },
    {
      "cell_type": "code",
      "execution_count": 76,
      "metadata": {
        "colab": {
          "base_uri": "https://localhost:8080/"
        },
        "id": "S5Gol7hkOIs3",
        "outputId": "7510e5e7-afd6-4dff-9cc7-1270e3c85228"
      },
      "outputs": [
        {
          "name": "stdout",
          "output_type": "stream",
          "text": [
            "是的，有安排吃厥餅。根據行程表，7月12日晚上在淺草東武飯店附近的淺草吉貝糰子可以品嚐到厥餅。這家店的營業時間是11:00到18:00，建議在這段時間內前往品嚐。\n",
            "\n",
            "以下是相關資訊：\n",
            "- **淺草吉貝糰子**\n",
            "  - 地址: [淺草吉貝糰子地圖連結](https://maps.app.goo.gl/WrRF8WN8u2JUiFBf6?g_st=com.google.maps.preview.copy)\n",
            "  - 營業時間: 11:00 - 18:00\n",
            "  - 特色: 據說是江戶時代流傳下來的街頭小吃，吃起來像是厥餅。外層裹上厚厚的一層黃豆粉，搭配無糖抹茶享用，不甜不膩。\n",
            "\n",
            "希望這個安排能讓您滿意，祝您旅途愉快！\n"
          ]
        }
      ],
      "source": [
        "messages = chat_template.format_messages(param_ques='有安排吃厥餅嗎?')\n",
        "print (llm.invoke(messages).content)"
      ]
    },
    {
      "cell_type": "code",
      "execution_count": 77,
      "metadata": {
        "colab": {
          "base_uri": "https://localhost:8080/"
        },
        "id": "SubFX2hvO2ps",
        "outputId": "dd7c795d-4d06-4961-9c16-5a6ff6459a5e"
      },
      "outputs": [
        {
          "name": "stdout",
          "output_type": "stream",
          "text": [
            "根據提供的資訊，同行的人包括：\n",
            "\n",
            "1. 張秉聖 (Chang Ping Sheng)\n",
            "2. 楊宛青 (Yang Wan Ching)\n",
            "3. 張欣瑜 (Chang Shin Yu)\n",
            "4. 張晉杰 (Chang Jin Jie)\n",
            "5. 彭明國 (Peng Minggu)\n",
            "6. 林珮筑 (Lin Peichu)\n",
            "7. 彭芷若 (Peng Zhizhuo)\n",
            "\n",
            "這些人將一起參加日本東京和日光的九天八夜自助旅遊。\n"
          ]
        }
      ],
      "source": [
        "messages = chat_template.format_messages(param_ques='請問同行的人有誰?')\n",
        "print (llm.invoke(messages).content)"
      ]
    },
    {
      "cell_type": "code",
      "execution_count": 78,
      "metadata": {
        "colab": {
          "base_uri": "https://localhost:8080/"
        },
        "id": "n6dtnQ8oQPYF",
        "outputId": "106562ae-c325-4624-abc6-304b7dc9186e"
      },
      "outputs": [
        {
          "name": "stdout",
          "output_type": "stream",
          "text": [
            "目前行程表中沒有特別安排迴轉壽司的用餐計劃。如果您想在行程中加入迴轉壽司的體驗，我可以為您推薦幾家東京知名的迴轉壽司店，並幫您安排合適的時間前往。\n",
            "\n",
            "### 推薦的迴轉壽司店：\n",
            "1. **壽司大（Sushi Dai）**\n",
            "   - 地址：東京都中央區築地5-2-1 築地市場6號館\n",
            "   - 營業時間：5:00 - 14:00\n",
            "   - 備註：築地市場內的壽司店，需早起排隊。\n",
            "\n",
            "2. **壽司三昧（Sushizanmai）**\n",
            "   - 地址：東京都中央區築地4-11-9\n",
            "   - 營業時間：24小時營業\n",
            "   - 備註：築地市場附近，24小時營業，非常方便。\n",
            "\n",
            "3. **根室花まる（Nemuro Hanamaru）**\n",
            "   - 地址：東京都千代田區丸之內1-9-1 東京車站大丸百貨13樓\n",
            "   - 營業時間：11:00 - 23:00\n",
            "   - 備註：位於東京車站大丸百貨內，交通便利。\n",
            "\n",
            "### 建議行程調整：\n",
            "您可以在自由活動的時間段內安排前往迴轉壽司店。例如：\n",
            "\n",
            "#### 7月19日 自由活動日\n",
            "- **午餐**：根室花まる（Nemuro Hanamaru）\n",
            "  - 地址：東京都千代田區丸之內1-9-1 東京車站大丸百貨13樓\n",
            "  - 營業時間：11:00 - 23:00\n",
            "  - 備註：可以在午餐時間前往，享受新鮮的壽司。\n",
            "\n",
            "#### 7月18日 銀座散步日\n",
            "- **晚餐**：壽司三昧（Sushizanmai）\n",
            "  - 地址：東京都中央區築地4-11-9\n",
            "  - 營業時間：24小時營業\n",
            "  - 備註：在銀\n"
          ]
        }
      ],
      "source": [
        "messages = chat_template.format_messages(param_ques='裡面有安排迴轉壽司嗎?')\n",
        "print (llm.invoke(messages).content)"
      ]
    }
  ],
  "metadata": {
    "colab": {
      "provenance": []
    },
    "kernelspec": {
      "display_name": "Python 3",
      "name": "python3"
    },
    "language_info": {
      "name": "python"
    }
  },
  "nbformat": 4,
  "nbformat_minor": 0
}
